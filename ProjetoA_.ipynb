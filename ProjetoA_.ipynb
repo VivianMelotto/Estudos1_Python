{
  "nbformat": 4,
  "nbformat_minor": 0,
  "metadata": {
    "colab": {
      "provenance": [],
      "authorship_tag": "ABX9TyP6l1HsBVE12tAK/CTsiwZP",
      "include_colab_link": true
    },
    "kernelspec": {
      "name": "python3",
      "display_name": "Python 3"
    },
    "language_info": {
      "name": "python"
    }
  },
  "cells": [
    {
      "cell_type": "markdown",
      "metadata": {
        "id": "view-in-github",
        "colab_type": "text"
      },
      "source": [
        "<a href=\"https://colab.research.google.com/github/VivianMelotto/Estudos1_Python/blob/Aprendizado/ProjetoA_.ipynb\" target=\"_parent\"><img src=\"https://colab.research.google.com/assets/colab-badge.svg\" alt=\"Open In Colab\"/></a>"
      ]
    },
    {
      "cell_type": "markdown",
      "source": [
        "\n"
      ],
      "metadata": {
        "id": "lU2UVMRJVJ5B"
      }
    },
    {
      "cell_type": "markdown",
      "source": [],
      "metadata": {
        "id": "CtGD0PEsYhJG"
      }
    },
    {
      "cell_type": "code",
      "source": [
        "# Lista para armazenar os alunos\n",
        "alunos = []\n",
        "\n",
        "# Função para cadastrar um aluno\n",
        "def cadastrar_aluno():\n",
        "    while True:\n",
        "        print(\"\\nDigite 'fim' para voltar ao menu principal a qualquer momento.\")\n",
        "        nome = input(\"Digite o nome do aluno: \")\n",
        "        if nome.lower() == 'fim':\n",
        "            return  # Retorna ao menu principal\n",
        "        idade = input(\"Digite a idade do aluno: \")\n",
        "        if idade.lower() == 'fim':\n",
        "            return  # Retorna ao menu principal\n",
        "        notas = []\n",
        "\n",
        "        # Solicitando as notas do aluno com validação (máximo de 4 notas)\n",
        "        while len(notas) < 4:\n",
        "            nota = input(f\"Digite a nota {len(notas) + 1} (ou 'fim' para voltar ao menu principal): \")\n",
        "            if nota.lower() == 'fim':\n",
        "                return  # Retorna ao menu principal\n",
        "            try:\n",
        "                nota = float(nota)\n",
        "                if nota > 100:\n",
        "                    print(\"Nota inválida. A nota máxima é 100. Tente novamente.\")\n",
        "                    continue\n",
        "                notas.append(nota)\n",
        "            except ValueError:\n",
        "                print(\"Entrada inválida. Por favor, digite um número.\")\n",
        "\n",
        "        # Cálculo da média e verificação de aprovação\n",
        "        media = calcular_media(notas)\n",
        "        status = 'Aprovado' if verificar_aprovacao(media, media_minima=70) else 'Reprovado'\n",
        "\n",
        "        aluno = {\n",
        "            'nome': nome,\n",
        "            'idade': int(idade),\n",
        "            'notas': notas,\n",
        "            'media': media,\n",
        "            'status': status\n",
        "        }\n",
        "        alunos.append(aluno)\n",
        "        print(f\"Aluno {nome} cadastrado com sucesso!\\nMédia: {media:.2f} | Status: {status}\\n\")\n",
        "\n",
        "# Função para calcular a média das notas\n",
        "def calcular_media(notas):\n",
        "    return sum(notas) / len(notas)\n",
        "\n",
        "# Função para verificar se o aluno foi aprovado\n",
        "def verificar_aprovacao(media, media_minima=70):\n",
        "    return media >= media_minima\n",
        "\n",
        "# Função para gerar o relatório dos alunos\n",
        "def gerar_relatorio():\n",
        "    print(\"\\nRelatório de Alunos:\")\n",
        "    for aluno in alunos:\n",
        "        print(f\"Aluno: {aluno['nome']} | Média: {aluno['media']:.2f} | Status: {aluno['status']}\")\n",
        "\n",
        "# Programa principal\n",
        "def main():\n",
        "    while True:\n",
        "        print(\"\\nMenu Principal:\")\n",
        "        print(\"1. Cadastrar aluno\")\n",
        "        print(\"2. Gerar relatório\")\n",
        "        print(\"3. Sair\")\n",
        "\n",
        "        opcao = input(\"Escolha uma opção: \")\n",
        "\n",
        "        if opcao == '1':\n",
        "            cadastrar_aluno()\n",
        "        elif opcao == '2':\n",
        "            gerar_relatorio()\n",
        "        elif opcao == '3':\n",
        "            print(\"Saindo do programa.\")\n",
        "            break\n",
        "        else:\n",
        "            print(\"Opção inválida. Tente novamente.\")\n",
        "\n",
        "# Executando o programa principal\n",
        "main()\n"
      ],
      "metadata": {
        "colab": {
          "base_uri": "https://localhost:8080/"
        },
        "id": "zWJafVd5iieB",
        "outputId": "c2a28843-cde7-47df-89dd-bfa5c05510ae"
      },
      "execution_count": null,
      "outputs": [
        {
          "output_type": "stream",
          "name": "stdout",
          "text": [
            "\n",
            "Menu Principal:\n",
            "1. Cadastrar aluno\n",
            "2. Gerar relatório\n",
            "3. Sair\n",
            "Escolha uma opção: 1\n",
            "\n",
            "Digite 'fim' para voltar ao menu principal a qualquer momento.\n",
            "Digite o nome do aluno: Ana\n",
            "Digite a idade do aluno: 19\n",
            "Digite a nota 1 (ou 'fim' para voltar ao menu principal): 100\n",
            "Digite a nota 2 (ou 'fim' para voltar ao menu principal): 80\n",
            "Digite a nota 3 (ou 'fim' para voltar ao menu principal): 70\n",
            "Digite a nota 4 (ou 'fim' para voltar ao menu principal): 50\n",
            "Aluno Ana cadastrado com sucesso!\n",
            "Média: 75.00 | Status: Aprovado\n",
            "\n",
            "\n",
            "Digite 'fim' para voltar ao menu principal a qualquer momento.\n",
            "Digite o nome do aluno: Carlos\n",
            "Digite a idade do aluno: 20\n",
            "Digite a nota 1 (ou 'fim' para voltar ao menu principal): 50\n",
            "Digite a nota 2 (ou 'fim' para voltar ao menu principal): 110\n",
            "Nota inválida. A nota máxima é 100. Tente novamente.\n",
            "Digite a nota 2 (ou 'fim' para voltar ao menu principal): 100\n",
            "Digite a nota 3 (ou 'fim' para voltar ao menu principal): 60\n",
            "Digite a nota 4 (ou 'fim' para voltar ao menu principal): 40\n",
            "Aluno Carlos cadastrado com sucesso!\n",
            "Média: 62.50 | Status: Reprovado\n",
            "\n",
            "\n",
            "Digite 'fim' para voltar ao menu principal a qualquer momento.\n",
            "Digite o nome do aluno: Antonio\n",
            "Digite a idade do aluno: 70\n",
            "Digite a nota 1 (ou 'fim' para voltar ao menu principal): 60\n",
            "Digite a nota 2 (ou 'fim' para voltar ao menu principal): 50\n",
            "Digite a nota 3 (ou 'fim' para voltar ao menu principal): 400\n",
            "Nota inválida. A nota máxima é 100. Tente novamente.\n",
            "Digite a nota 3 (ou 'fim' para voltar ao menu principal): 40\n",
            "Digite a nota 4 (ou 'fim' para voltar ao menu principal): 90\n",
            "Aluno Antonio cadastrado com sucesso!\n",
            "Média: 60.00 | Status: Reprovado\n",
            "\n",
            "\n",
            "Digite 'fim' para voltar ao menu principal a qualquer momento.\n",
            "Digite o nome do aluno: fim\n",
            "\n",
            "Menu Principal:\n",
            "1. Cadastrar aluno\n",
            "2. Gerar relatório\n",
            "3. Sair\n",
            "Escolha uma opção: 2\n",
            "\n",
            "Relatório de Alunos:\n",
            "Aluno: Ana | Média: 75.00 | Status: Aprovado\n",
            "Aluno: Carlos | Média: 62.50 | Status: Reprovado\n",
            "Aluno: Antonio | Média: 60.00 | Status: Reprovado\n",
            "\n",
            "Menu Principal:\n",
            "1. Cadastrar aluno\n",
            "2. Gerar relatório\n",
            "3. Sair\n"
          ]
        }
      ]
    }
  ]
}