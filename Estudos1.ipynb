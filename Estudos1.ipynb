{
  "nbformat": 4,
  "nbformat_minor": 0,
  "metadata": {
    "colab": {
      "provenance": [],
      "authorship_tag": "ABX9TyOjy+n9AzxBN2T/o2wk31Vi",
      "include_colab_link": true
    },
    "kernelspec": {
      "name": "python3",
      "display_name": "Python 3"
    },
    "language_info": {
      "name": "python"
    }
  },
  "cells": [
    {
      "cell_type": "markdown",
      "metadata": {
        "id": "view-in-github",
        "colab_type": "text"
      },
      "source": [
        "<a href=\"https://colab.research.google.com/github/VivianMelotto/Estudos1_Python/blob/Aprendizado/Estudos1.ipynb\" target=\"_parent\"><img src=\"https://colab.research.google.com/assets/colab-badge.svg\" alt=\"Open In Colab\"/></a>"
      ]
    },
    {
      "cell_type": "markdown",
      "source": [
        "\n",
        "\n",
        "```\n",
        "#Apresentação dos Estudos em Python\n",
        "Autora: Vivian Melotto\n",
        "Data: [Insira a data]\n",
        "________________________________________\n",
        "Introdução\n",
        "Bem-vindo(a) à minha apresentação sobre meus estudos em Python. Este notebook tem como objetivo compartilhar o que aprendi e os projetos que desenvolvi ao longo do meu aprendizado.\n",
        "________________________________________\n",
        "\n",
        "```\n",
        "\n"
      ],
      "metadata": {
        "id": "mvnzytPwp_n4"
      }
    },
    {
      "cell_type": "markdown",
      "source": [
        "\n",
        "#INICIO\n",
        "#1.1\n",
        "Faça um programa que verifique se o usuário digitou um valor numérico ou não.\n",
        "\n",
        "Caso Verdadeiro, imprima: 'Esse input é um número'\n",
        "\n",
        "Caso Falso, imprima: 'Esse input não é um número, tente novamente'\n"
      ],
      "metadata": {
        "id": "nuJG3Xe_oZSL"
      }
    },
    {
      "cell_type": "code",
      "source": [
        "# Solicita input do usuário\n",
        "input_usuario = input(\"Digite algo: \")\n",
        "\n",
        "# Verifica se o input é numérico\n",
        "if input_usuario.isnumeric():\n",
        "    print(\"Esse input é um número\")\n",
        "else:\n",
        "    print(\"Esse input não é um número, tente novamente\")\n"
      ],
      "metadata": {
        "id": "x3qeggdvocqx",
        "outputId": "737f41a1-6691-4db0-e03a-025ec3d3a036",
        "colab": {
          "base_uri": "https://localhost:8080/"
        }
      },
      "execution_count": null,
      "outputs": [
        {
          "output_type": "stream",
          "name": "stdout",
          "text": [
            "Digite algo: tes\n",
            "Esse input não é um número, tente novamente\n"
          ]
        }
      ]
    },
    {
      "cell_type": "markdown",
      "source": [
        "> Este código usa o método isnumeric() para verificar se a string digitada pelo usuário consiste apenas de dígitos numéricos. Se sim, o programa imprime \"Esse input é um número\". Caso contrário, imprime \"Esse input não é um número, tente novamente\"."
      ],
      "metadata": {
        "id": "LeSth4lKuVET"
      }
    },
    {
      "cell_type": "markdown",
      "source": [
        "#1.2\n",
        "Peça para o usuário digitar um número e verifique se ele é par e imprima para o usuário essa informação.\n",
        "\n",
        "Dica.: números pares, quando são divididos por 2 possuem resto = 0"
      ],
      "metadata": {
        "id": "a4IWNTJWodyg"
      }
    },
    {
      "cell_type": "code",
      "source": [
        "# Solicita input do usuário e converte para inteiro\n",
        "numero = int(input(\"Digite um número: \"))\n",
        "\n",
        "# Verifica se o número é par\n",
        "if numero % 2 == 0:\n",
        "    print(f\"O número {numero} é par.\")\n",
        "else:\n",
        "    print(f\"O número {numero} é ímpar.\")\n"
      ],
      "metadata": {
        "id": "nlsKgg-DojWo",
        "colab": {
          "base_uri": "https://localhost:8080/"
        },
        "outputId": "b1c53a59-cca9-43d3-a094-6eea6c8cafdc"
      },
      "execution_count": null,
      "outputs": [
        {
          "output_type": "stream",
          "name": "stdout",
          "text": [
            "Digite um número: 5\n",
            "O número 5 é ímpar.\n"
          ]
        }
      ]
    },
    {
      "cell_type": "markdown",
      "source": [
        "Neste código, o número digitado pelo usuário é convertido para um inteiro usando int(). Em seguida, o programa verifica se o número é par usando o operador módulo %, que retorna o resto da divisão do número por 2. Se o resto for 0, o número é par; caso contrário, é ímpar."
      ],
      "metadata": {
        "id": "V170pPRmulno"
      }
    },
    {
      "cell_type": "markdown",
      "source": [
        "#1.3\n",
        "Faça um programa no qual o usuário insira 2 inteiros. Verifique se o número 1 é divisível pelo número 2. Imprima essa informação para o usuário."
      ],
      "metadata": {
        "id": "xMSv6eynoxrA"
      }
    },
    {
      "cell_type": "code",
      "source": [
        "# Solicita input do usuário para dois números inteiros\n",
        "numero1 = int(input(\"Digite o primeiro número inteiro: \"))\n",
        "numero2 = int(input(\"Digite o segundo número inteiro: \"))\n",
        "\n",
        "# Verifica se o número1 é divisível pelo número2\n",
        "if numero2 != 0:  # Certifica-se de que o divisor não é zero\n",
        "    if numero1 % numero2 == 0:\n",
        "        print(f\"O número {numero1} é divisível pelo número {numero2}.\")\n",
        "    else:\n",
        "        print(f\"O número {numero1} não é divisível pelo número {numero2}.\")\n",
        "else:\n",
        "    print(\"Divisão por zero não é permitida. Tente novamente com outro número.\")\n"
      ],
      "metadata": {
        "id": "9s5vXQ-Qo0uY",
        "colab": {
          "base_uri": "https://localhost:8080/"
        },
        "outputId": "7acd1b74-99d6-42e0-883a-dbd9d766996c"
      },
      "execution_count": null,
      "outputs": [
        {
          "output_type": "stream",
          "name": "stdout",
          "text": [
            "Digite o primeiro número inteiro: 3\n",
            "Digite o segundo número inteiro: 2\n",
            "O número 3 não é divisível pelo número 2.\n"
          ]
        }
      ]
    },
    {
      "cell_type": "markdown",
      "source": [
        "Neste código, o programa solicita que o usuário insira dois números inteiros. Ele verifica se o segundo número (divisor) é diferente de zero para evitar erros de divisão por zero. Se o primeiro número for divisível pelo segundo, ele imprime que o número é divisível. Caso contrário, informa que não é divisível."
      ],
      "metadata": {
        "id": "Bnxl9NZHv8yN"
      }
    },
    {
      "cell_type": "markdown",
      "source": [],
      "metadata": {
        "id": "PvykHSkGu_yQ"
      }
    },
    {
      "cell_type": "markdown",
      "source": [
        "#1.4(Calculadora):\n",
        "Faça um programa no qual o usuário vai digitar 2 números e também o tipo de operação que ele gostaria que fosse feita:\n",
        "\n",
        "Soma,\n",
        "Subtração,\n",
        "Divisão,\n",
        "Multiplicação,\n",
        "Potência,\n",
        "Imprima o resultado para o usuário da operação:\n",
        "\n",
        "Num1 Operação Num2\n",
        "\n",
        "Caso o usuário não digite uma operação válida, dê uma mensagem de erro!"
      ],
      "metadata": {
        "id": "HdxC46SPo44X"
      }
    },
    {
      "cell_type": "code",
      "source": [
        "# Solicita input do usuário para dois números\n",
        "num1 = float(input(\"Digite o primeiro número: \"))\n",
        "num2 = float(input(\"Digite o segundo número: \"))\n",
        "\n",
        "# Solicita input do usuário para a operação\n",
        "operacao = input(\"Digite a operação que deseja realizar (Soma, Subtração, Divisão, Multiplicação, Potência): \").strip().lower()\n",
        "\n",
        "# Realiza a operação com base na escolha do usuário\n",
        "if operacao == 'soma':\n",
        "    resultado = num1 + num2\n",
        "    print(f\"{num1} + {num2} = {resultado}\")\n",
        "\n",
        "elif operacao == 'subtração' or operacao == 'subtracao':\n",
        "    resultado = num1 - num2\n",
        "    print(f\"{num1} - {num2} = {resultado}\")\n",
        "\n",
        "elif operacao == 'divisão' or operacao == 'divisao':\n",
        "    if num2 != 0:  # Verifica se o divisor é diferente de zero\n",
        "        resultado = num1 / num2\n",
        "        print(f\"{num1} / {num2} = {resultado}\")\n",
        "    else:\n",
        "        print(\"Erro: Divisão por zero não é permitida.\")\n",
        "\n",
        "elif operacao == 'multiplicação' or operacao == 'multiplicacao':\n",
        "    resultado = num1 * num2\n",
        "    print(f\"{num1} * {num2} = {resultado}\")\n",
        "\n",
        "elif operacao == 'potência' or operacao == 'potencia':\n",
        "    resultado = num1 ** num2\n",
        "    print(f\"{num1} ^ {num2} = {resultado}\")\n",
        "\n",
        "else:\n",
        "    print(\"Erro: Operação inválida! Por favor, escolha entre Soma, Subtração, Divisão, Multiplicação, ou Potência.\")\n",
        "\n"
      ],
      "metadata": {
        "id": "kYMc-kBYrlMZ",
        "colab": {
          "base_uri": "https://localhost:8080/"
        },
        "outputId": "5f0abdcf-9925-4ad5-96c9-231183eb3a85"
      },
      "execution_count": null,
      "outputs": [
        {
          "output_type": "stream",
          "name": "stdout",
          "text": [
            "Digite o primeiro número: 4\n",
            "Digite o segundo número: 5\n",
            "Digite a operação que deseja realizar (Soma, Subtração, Divisão, Multiplicação, Potência): Soma\n",
            "4.0 + 5.0 = 9.0\n"
          ]
        }
      ]
    },
    {
      "cell_type": "markdown",
      "source": [
        "Como funciona:\n",
        "O programa pede ao usuário para digitar dois números (num1 e num2).\n",
        "Em seguida, solicita que o usuário escolha a operação desejada: Soma, Subtração, Divisão, Multiplicação ou Potência.\n",
        "O programa verifica a operação escolhida e realiza o cálculo correspondente.\n",
        "Se o usuário digitar uma operação inválida, o programa exibirá uma mensagem de erro.\n",
        "Notas:\n",
        "O input de operação é convertido para minúsculas e espaços adicionais são removidos para evitar erros de digitação.\n",
        "Para as operações de Divisão e Potência, o programa lida com a possibilidade de erros, como a divisão por zero."
      ],
      "metadata": {
        "id": "QOKmqZQVvq4_"
      }
    },
    {
      "cell_type": "markdown",
      "source": [
        "#1.5\n",
        "Desenvolva um programa para um depósito de\n",
        "bebidas que valide venda de bebidas para maiores de idade (maior ou\n",
        "igual 18 anos) no mercado, o programa deve receber do usuário os\n",
        "valores do nome e ano que ele nasceu e retornar se ele pode comprar\n",
        "bebidas."
      ],
      "metadata": {
        "id": "Issi6tqFrY0Q"
      }
    },
    {
      "cell_type": "code",
      "source": [
        "from datetime import datetime\n",
        "\n",
        "# Solicita o nome e o ano de nascimento do usuário\n",
        "nome = input(\"Digite seu nome: \")\n",
        "ano_nascimento = int(input(\"Digite o ano de seu nascimento: \"))\n",
        "\n",
        "# Obtém o ano atual\n",
        "ano_atual = datetime.now().year\n",
        "\n",
        "# Calcula a idade do usuário\n",
        "idade = ano_atual - ano_nascimento\n",
        "\n",
        "# Verifica se o usuário pode comprar bebidas\n",
        "if idade >= 18:\n",
        "    print(f\"{nome}, você pode comprar bebidas.\")\n",
        "else:\n",
        "    print(f\"{nome}, você não pode comprar bebidas. Você deve ter pelo menos 18 anos.\")\n"
      ],
      "metadata": {
        "id": "MLKfER1so6cf",
        "colab": {
          "base_uri": "https://localhost:8080/"
        },
        "outputId": "869bbb8d-c353-4761-fa88-20f79338842e"
      },
      "execution_count": null,
      "outputs": [
        {
          "output_type": "stream",
          "name": "stdout",
          "text": [
            "Digite seu nome: Vi\n",
            "Digite o ano de seu nascimento: 2000\n",
            "Vi, você pode comprar bebidas.\n"
          ]
        }
      ]
    },
    {
      "cell_type": "markdown",
      "source": [
        "Como funciona:\n",
        "Entrada do Usuário:\n",
        "\n",
        "O programa solicita ao usuário que insira seu nome e o ano de nascimento.\n",
        "Cálculo da Idade:\n",
        "\n",
        "O ano atual é obtido usando datetime.now().year.\n",
        "A idade é calculada subtraindo o ano de nascimento do ano atual.\n",
        "Validação da Idade:\n",
        "\n",
        "Se a idade for maior ou igual a 18, o programa informa que o usuário pode comprar bebidas.\n",
        "Caso contrário, o programa informa que o usuário não pode comprar bebidas.\n",
        "Notas:\n",
        "Este programa assume que o usuário fornece um ano de nascimento válido e não lida com erros de entrada, como anos futuros ou valores não inteiros. Se precisar lidar com entradas inválidas, você pode adicionar verificações adicionais."
      ],
      "metadata": {
        "id": "o7B54Eq-wpjI"
      }
    },
    {
      "cell_type": "markdown",
      "source": [
        "#1.6\n",
        "Esse bimestre na faculdade você precisa tirar nota 8 de média para\n",
        "passar na matéria, desenvolva um script que leia a nota de suas\n",
        "últimas 3 provas, tire a média delas e verifique se você passou."
      ],
      "metadata": {
        "id": "D0BcJK-brn6w"
      }
    },
    {
      "cell_type": "code",
      "source": [
        "def verificar_aprovacao(nota1, nota2, nota3):\n",
        "    \"\"\"\n",
        "    Função para calcular a média das notas e verificar se a média é suficiente para aprovação.\n",
        "    \"\"\"\n",
        "    media = (nota1 + nota2 + nota3) / 3\n",
        "    if media >= 8:\n",
        "        return f\"Você passou! Sua média é {media:.2f}.\"\n",
        "    else:\n",
        "        return f\"Você não passou. Sua média é {media:.2f}.\"\n",
        "\n",
        "# Solicita ao usuário as notas das últimas 3 provas\n",
        "nota1 = float(input(\"Digite a nota da primeira prova: \"))\n",
        "nota2 = float(input(\"Digite a nota da segunda prova: \"))\n",
        "nota3 = float(input(\"Digite a nota da terceira prova: \"))\n",
        "\n",
        "# Verifica e exibe o resultado\n",
        "resultado = verificar_aprovacao(nota1, nota2, nota3)\n",
        "print(resultado)\n"
      ],
      "metadata": {
        "id": "8paHipzhrs7Y",
        "colab": {
          "base_uri": "https://localhost:8080/"
        },
        "outputId": "a8677b93-59e8-45d9-c4aa-33f2c6859228"
      },
      "execution_count": null,
      "outputs": [
        {
          "output_type": "stream",
          "name": "stdout",
          "text": [
            "Digite a nota da primeira prova: 2\n",
            "Digite a nota da segunda prova: 7\n",
            "Digite a nota da terceira prova: 8\n",
            "Você não passou. Sua média é 5.67.\n"
          ]
        }
      ]
    },
    {
      "cell_type": "markdown",
      "source": [
        "Como funciona:\n",
        "Função verificar_aprovacao:\n",
        "\n",
        "Recebe as três notas como parâmetros.\n",
        "Calcula a média das notas.\n",
        "Verifica se a média é maior ou igual a 8. Se for, retorna uma mensagem de aprovação. Caso contrário, retorna uma mensagem indicando que a aprovação não foi alcançada.\n",
        "Entrada do Usuário:\n",
        "\n",
        "O script solicita que o usuário insira as notas das três provas.\n",
        "Cálculo e Resultado:\n",
        "\n",
        "O script calcula a média das notas e exibe se a média é suficiente para aprovação ou não.\n",
        "Esse script é simples e direto, facilitando a verificação se as notas são suficientes para a aprovação na matéria."
      ],
      "metadata": {
        "id": "QrSsxbEjyD6_"
      }
    },
    {
      "cell_type": "markdown",
      "source": [
        "#1.7\n",
        "A fisioterapeuta que você vai gosta muito de brincar com números, e\n",
        "pediu para você criar um sistema que verifique se a altura inserida é\n",
        "par ou impar."
      ],
      "metadata": {
        "id": "iftmbokfrzLQ"
      }
    },
    {
      "cell_type": "code",
      "source": [
        "# Solicita input do usuário para a altura\n",
        "altura = float(input(\"Digite a sua altura em metros (exemplo: 1.75): \"))\n",
        "\n",
        "# Converte a altura para centímetros\n",
        "altura_cm = int(altura * 100)\n",
        "\n",
        "# Verifica se a altura em centímetros é par ou ímpar\n",
        "if altura_cm % 2 == 0:\n",
        "    print(f\"A altura de {altura} metros (ou {altura_cm} centímetros) é par.\")\n",
        "else:\n",
        "    print(f\"A altura de {altura} metros (ou {altura_cm} centímetros) é ímpar.\")\n"
      ],
      "metadata": {
        "id": "Ew3RIysCr0so",
        "colab": {
          "base_uri": "https://localhost:8080/"
        },
        "outputId": "994c2fb3-eafa-42b1-fd0e-3acadf28ac01"
      },
      "execution_count": null,
      "outputs": [
        {
          "output_type": "stream",
          "name": "stdout",
          "text": [
            "Digite a sua altura em metros (exemplo: 1.75): 1.76\n",
            "A altura de 1.76 metros (ou 176 centímetros) é par.\n"
          ]
        }
      ]
    },
    {
      "cell_type": "markdown",
      "source": [
        "Como funciona:\n",
        "Entrada do Usuário:\n",
        "\n",
        "O programa solicita que o usuário insira a altura em metros.\n",
        "Conversão e Verificação:\n",
        "\n",
        "A altura é convertida para centímetros multiplicando por 100 e convertida para um número inteiro.\n",
        "O programa verifica se o valor em centímetros é par ou ímpar usando o operador módulo %.\n",
        "Resultado:\n",
        "\n",
        "O programa imprime se a altura em centímetros é par ou ímpar.\n",
        "Este código considera a altura como um valor decimal e realiza a conversão para uma unidade inteira (centímetros) para facilitar a verificação de paridade."
      ],
      "metadata": {
        "id": "4O_kJi8JxD2o"
      }
    },
    {
      "cell_type": "markdown",
      "source": [
        "#1.8\n",
        "Faça um script que você coloque a quantidade de dias e descubra em\n",
        "qual trimestre esse dia está no ano.\n",
        "\n",
        "\n",
        "*   Item da lista\n",
        "*   Item da lista\n",
        "\n"
      ],
      "metadata": {
        "id": "U9m4Qr9zr1Zg"
      }
    },
    {
      "cell_type": "code",
      "source": [
        "def determinar_trimestre(dias):\n",
        "    \"\"\"\n",
        "    Função para determinar o trimestre com base na quantidade de dias desde o início do ano.\n",
        "    \"\"\"\n",
        "    if dias <= 0:\n",
        "        return \"Número de dias inválido. Deve ser um valor positivo.\"\n",
        "\n",
        "    # Define o número de dias em cada trimestre\n",
        "    dias_no_trimestre = [90, 91, 92, 92]  # Normalmente, Q1 e Q4 têm 90 dias e Q2 e Q3 têm 91 e 92 respectivamente\n",
        "\n",
        "    # Verifica em qual trimestre o número de dias cai\n",
        "    acumulado = 0\n",
        "    for i, dias_trimestre in enumerate(dias_no_trimestre):\n",
        "        acumulado += dias_trimestre\n",
        "        if dias <= acumulado:\n",
        "            return f\"O dia {dias} está no trimestre {i + 1}.\"\n",
        "\n",
        "    return \"Número de dias excede o número de dias no ano.\"\n",
        "\n",
        "# Solicita ao usuário o número de dias\n",
        "dias = int(input(\"Digite a quantidade de dias desde o início do ano: \"))\n",
        "\n",
        "# Determina e exibe o trimestre\n",
        "resultado = determinar_trimestre(dias)\n",
        "print(resultado)\n"
      ],
      "metadata": {
        "id": "XcD5effPr5XA",
        "colab": {
          "base_uri": "https://localhost:8080/"
        },
        "outputId": "e7d37ea3-bbb2-4284-e12c-602ccd57143d"
      },
      "execution_count": null,
      "outputs": [
        {
          "output_type": "stream",
          "name": "stdout",
          "text": [
            "Digite a quantidade de dias desde o início do ano: 67\n",
            "O dia 67 está no trimestre 1.\n"
          ]
        }
      ]
    },
    {
      "cell_type": "markdown",
      "source": [
        "Como funciona:\n",
        "Função determinar_trimestre:\n",
        "\n",
        "Recebe o número de dias desde o início do ano.\n",
        "Define o número de dias típicos em cada trimestre.\n",
        "Usa uma soma acumulativa para determinar em qual trimestre o número de dias se encaixa.\n",
        "Entrada do Usuário:\n",
        "\n",
        "O script solicita ao usuário que insira o número de dias desde o início do ano.\n",
        "Verificação e Saída:\n",
        "\n",
        "A função determina o trimestre e retorna uma mensagem indicando em qual trimestre o número de dias se encontra.\n",
        "Se o número de dias for inválido (menor ou igual a zero) ou exceder o total de dias no ano, o script retorna uma mensagem apropriada."
      ],
      "metadata": {
        "id": "ZUPDdNUmxQ4I"
      }
    },
    {
      "cell_type": "markdown",
      "source": [
        "Desenvolva um sistema que leia 3 números e diga qual é o maior (se\n",
        "houver empate, exiba os empatados)."
      ],
      "metadata": {
        "id": "VPKr-kTPr-TY"
      }
    },
    {
      "cell_type": "markdown",
      "source": [
        "#1.9 Conclusão :\n",
        "\n",
        "**Apresentou-se o  aprendizado sobre várias operações básicas e práticas em Python, incluindo:**\n",
        "\n",
        "*Validação de Entrada:*\n",
        "\n",
        "Verificação de Valor Numérico: Usei o método isnumeric() para verificar se um input é numérico.\n",
        "Verificação de Operações: Validei a operação escolhida pelo usuário em uma calculadora.\n",
        "\n",
        "*Estruturas Condicionais:*\n",
        "\n",
        "Condicional Simples: Usei if-else para verificar se um número é par ou ímpar.\n",
        "\n",
        "Condicional Composta: Verifiquei se um número é divisível por outro e se a idade é suficiente para comprar bebidas.\n",
        "\n",
        "*Manipulação de Dados e Cálculos:*\n",
        "\n",
        "Cálculo de Idade: Usei a diferença entre anos para calcular a idade.\n",
        "Operações Matemáticas: Implementei operações básicas de uma calculadora como soma, subtração, multiplicação, divisão e potência.\n",
        "\n",
        "Leitura de Dados do Usuário: Usei a função input() para receber dados do usuário.\n",
        "Formatando Saída: Usei formatação de strings para exibir resultados de forma clara e precisa.\n",
        "\n",
        "*Tratamento de Erros:*\n",
        "\n",
        "Validação de Dados: Implementei verificações para evitar entradas inválidas, como divisão por zero e dados fora do intervalo esperado.\n",
        "Essas práticas são fundamentais para desenvolver habilidades em programação e são aplicáveis em uma variedade de contextos, desde scripts simples até projetos mais complexos."
      ],
      "metadata": {
        "id": "kOEqJTtNzClI"
      }
    },
    {
      "cell_type": "markdown",
      "source": [
        "==============================================================================="
      ],
      "metadata": {
        "id": "gWU6l6EzBMGw"
      }
    },
    {
      "cell_type": "markdown",
      "source": [
        "#2."
      ],
      "metadata": {
        "id": "38jCw5zR9EtT"
      }
    }
  ]
}